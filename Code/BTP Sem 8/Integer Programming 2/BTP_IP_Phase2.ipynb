{
  "nbformat": 4,
  "nbformat_minor": 0,
  "metadata": {
    "colab": {
      "name": "BTP_IP Phase2.ipynb",
      "provenance": [],
      "collapsed_sections": []
    },
    "kernelspec": {
      "name": "python3",
      "display_name": "Python 3"
    }
  },
  "cells": [
    {
      "cell_type": "markdown",
      "metadata": {
        "id": "1bwt4pT9zPNB"
      },
      "source": [
        "# **Integer Programming Method for Edge Data Distribution (EDD) problem**"
      ]
    },
    {
      "cell_type": "code",
      "metadata": {
        "id": "yz3S6US745Ly",
        "colab": {
          "base_uri": "https://localhost:8080/"
        },
        "outputId": "ab8048a2-1d1e-4ebb-cf99-f342f29b6e7f"
      },
      "source": [
        "# Install required libraries of python-pulp.\n",
        "!pip install pulp"
      ],
      "execution_count": 19,
      "outputs": [
        {
          "output_type": "stream",
          "text": [
            "Requirement already satisfied: pulp in /usr/local/lib/python3.6/dist-packages (2.4)\n",
            "Requirement already satisfied: amply>=0.1.2 in /usr/local/lib/python3.6/dist-packages (from pulp) (0.1.4)\n",
            "Requirement already satisfied: pyparsing in /usr/local/lib/python3.6/dist-packages (from amply>=0.1.2->pulp) (2.4.7)\n",
            "Requirement already satisfied: docutils>=0.3 in /usr/local/lib/python3.6/dist-packages (from amply>=0.1.2->pulp) (0.16)\n"
          ],
          "name": "stdout"
        }
      ]
    },
    {
      "cell_type": "code",
      "metadata": {
        "id": "BvlHYzlbDvVV",
        "colab": {
          "base_uri": "https://localhost:8080/"
        },
        "outputId": "4a45e14d-6ce0-40a6-a2ed-9d2b30ca0fee"
      },
      "source": [
        "# Pick the test case to evaluate EDD.\n",
        "print(\"Enter 1 for small input testcase OR 2 for large input test case\")\n",
        "n = int(input())\n",
        "fileName = \"\"\n",
        "if (n == 1):\n",
        "  fileName = \"/content/input.txt\"\n",
        "elif (n == 2):\n",
        "  fileName = \"/content/large_input.txt\""
      ],
      "execution_count": 20,
      "outputs": [
        {
          "output_type": "stream",
          "text": [
            "Enter 1 for small input testcase OR 2 for large input test case\n",
            "1\n"
          ],
          "name": "stdout"
        }
      ]
    },
    {
      "cell_type": "code",
      "metadata": {
        "id": "X6y56ZaH48M_"
      },
      "source": [
        "inputFile = open(fileName, \"r\")\n",
        "V, E, R = [int(x) for x in inputFile.readline().split()]          # V, E, R - vertex, edges and destination edge servers.\n",
        "dLimit, gamma = [int(x) for x in inputFile.readline().split()]\n",
        "G = {(i, j): 0 for i in range(V+1) for j in range(V+1)}\n",
        "dest_edge_servers = []\n",
        "edges = []\n",
        "Gamma = {(i, j): 0 for i in range(V+1) for j in range(V+1)}       # To keep track of the cost with any edge.\n",
        "CETC = 100 # Cloud to Edge Server Transmission Cost\n",
        "\n",
        "for i in range(E):\n",
        "  (u, v, w) = [int(x) for x in inputFile.readline().split()]\n",
        "  edges.append((u, v))\n",
        "  Gamma[u, v] = w\n",
        "  Gamma[v, u] = w\n",
        "\n",
        "for i in range(R):\n",
        "  v = [int(x) for x in inputFile.readline().split()]\n",
        "  dest_edge_servers.append(v[0])\n",
        "\n",
        "inputFile.close()\n",
        "\n",
        "DLimit = dLimit\n",
        "\n",
        "for (x, y) in edges:\n",
        "  G[x, y] = 1\n",
        "  G[y, x] = 1\n",
        "\n",
        "for x in range(1, V+1):\n",
        "  G[0, x] = 1\n",
        "  Gamma[0, x] = CETC\n"
      ],
      "execution_count": 21,
      "outputs": []
    },
    {
      "cell_type": "code",
      "metadata": {
        "id": "imbl2hwr8r6c"
      },
      "source": [
        "# Import pulp and create a minimize optimization problem.\n",
        "import pulp as plp\n",
        "opt_model = plp.LpProblem(\"IP_Problem\", plp.LpMinimize)"
      ],
      "execution_count": 22,
      "outputs": []
    },
    {
      "cell_type": "code",
      "metadata": {
        "id": "8e8xay0z80b7"
      },
      "source": [
        "# H[v] to denote if edge server 'v' is visited or not in EDD.\n",
        "H = {(i): plp.LpVariable(cat=plp.LpBinary, name=\"H_{0}\".format(i)) for i in range(V+1)}\n",
        "\n",
        "# T[u, v] to denote if edge (u, v) is used or not.\n",
        "T = {(i, j): plp.LpVariable(cat=plp.LpBinary, name=\"T_{0}_{1}\".format(i, j)) for i in range(V+1) for j in range(V+1)}\n",
        "\n",
        "NT = {(i, j): plp.LpVariable(cat=plp.LpInteger, name=\"NT_{0}_{1}\".format(i, j)) for i in range(V+1) for j in range(V+1)}\n",
        "\n",
        "PT = {(i, j): plp.LpVariable(cat=plp.LpInteger, name=\"PT_{0}_{1}\".format(i, j)) for i in range(V+1) for j in range(V+1)}\n",
        "\n",
        "# D[v] to denote the depth of edge server 'v' in EDD IP.\n",
        "D = {(i): plp.LpVariable(cat=plp.LpInteger, name=\"D_{0}\".format(i)) for i in range(V+1)}"
      ],
      "execution_count": 23,
      "outputs": []
    },
    {
      "cell_type": "code",
      "metadata": {
        "id": "scJxCdLu_bpe",
        "colab": {
          "base_uri": "https://localhost:8080/"
        },
        "outputId": "30d46d17-154f-41a1-c310-6b97a78659fa"
      },
      "source": [
        "if (DLimit == CETC):           # Base condition when D_limit = CETC.\n",
        "  print(\"Optimal Solution\")\n",
        "  print(\"Optimal Cost = \" + str(R*CETC))\n",
        "else:\n",
        "  # Optimization problem statement.\n",
        "  opt_model += plp.lpSum(Gamma[i, j] * T[i, j] for i in range(V+1) for j in range(V+1))   \n",
        "\n",
        "  # Constraint H[j] == 1 for j in destination edge servers.\n",
        "  for j in dest_edge_servers:\n",
        "      opt_model += H[j] == 1\n",
        "\n",
        "  # Constraint on Depth D[j].\n",
        "  opt_model += D[0] == 0\n",
        "  for j in range(1, V+1):\n",
        "      opt_model += D[j] <= DLimit\n",
        "      opt_model += D[j] >= D[0] + CETC\n",
        "\n",
        "  # Constraint on summation of T(i, j) == H[j].\n",
        "  for j in range(1, V+1):      \n",
        "    opt_model += plp.lpSum([T[i, j] for i in range(V+1)]) == H[j]\n",
        "\n",
        "  # Constraint on T[i, j] == 0, edge (i, j) is not present in G.\n",
        "  for i in range(V+1):\n",
        "    for j in range(V+1):\n",
        "      if (G[i, j] != 1):\n",
        "          opt_model += T[i, j] == 0\n",
        "\n",
        "  # Constraint on NT to be -INF or 1 depending on T[i, j] = 0 Or 1 respectively. \n",
        "  for i in range(V+1):\n",
        "    for j in range(V+1):\n",
        "      opt_model += NT[i, j] == (T[i, j] - 1)*V*100 + 1\n",
        "\n",
        "  # Constraint on PT to be +INF or 1 depending on T[i, j] = 0 Or 1 respectively.\n",
        "  for i in range(V+1):\n",
        "    for j in range(V+1):\n",
        "      opt_model += PT[i, j] == (-1)*(T[i, j] - 1)*V*100 + 1\n",
        "\n",
        "  # Constraint on T[c, v] >= 1, i.e., atleast one edge there must be from the cloud.\n",
        "  opt_model += plp.lpSum([T[0, i] for i in range(1, V+1)]) >= 1\n",
        "\n",
        "  # Constraint on consecutive edges depth.\n",
        "  for i in range(V+1):\n",
        "    for j in range(V+1):\n",
        "        if(G[i, j] == 1):\n",
        "          opt_model += D[j] - D[i] - (Gamma[i, j] * NT[i, j]) >= 0 \n",
        "          opt_model += D[j] - D[i] - (Gamma[i, j] * PT[i, j]) <= 0\n",
        "\n",
        "  # Constraint on T[c, v] = 1, if D[v] = 1. Obvious.\n",
        "  for i in range(1, V+1):\n",
        "    opt_model += T[0, i] >= (-1)*(D[i] - CETC + 1) + 2\n",
        "\n",
        "  # Constraint for having H[i] = 1, if any 'j' is visited from 'i' such that T[i, j] = 1.\n",
        "  for i in range(1, V+1):\n",
        "    for j in range(1, V+1):\n",
        "      opt_model += T[i, j] + T[i, j] <= H[i] + H[j]\n",
        "\n",
        "  status = opt_model.solve()\n",
        "\n",
        "  print(plp.LpStatus[status] + \" Solution\")\n",
        "  print(\"Optimal Cost = \" + str(plp.value(opt_model.objective)))\n",
        "\n",
        "  print(\"\")\n",
        "\n",
        "  for i in range(V+1):\n",
        "      for j in range(V+1):\n",
        "          if (plp.value(T[i, j]) == 1):\n",
        "              print(T[i, j] , plp.value(T[i, j]))\n",
        "\n",
        "  print(\"\")\n",
        "\n",
        "  for i in range(V+1):\n",
        "    print(D[i] , plp.value(D[i]))\n"
      ],
      "execution_count": 24,
      "outputs": [
        {
          "output_type": "stream",
          "text": [
            "Optimal Solution\n",
            "Optimal Cost = 219.0\n",
            "\n",
            "T_0_2 1.0\n",
            "T_0_7 1.0\n",
            "T_2_1 1.0\n",
            "T_2_4 1.0\n",
            "T_4_10 1.0\n",
            "T_7_3 1.0\n",
            "T_7_6 1.0\n",
            "T_10_9 1.0\n",
            "\n",
            "D_0 0.0\n",
            "D_1 105.0\n",
            "D_2 100.0\n",
            "D_3 103.0\n",
            "D_4 105.0\n",
            "D_5 101.0\n",
            "D_6 103.0\n",
            "D_7 100.0\n",
            "D_8 101.0\n",
            "D_9 108.0\n",
            "D_10 107.0\n"
          ],
          "name": "stdout"
        }
      ]
    }
  ]
}